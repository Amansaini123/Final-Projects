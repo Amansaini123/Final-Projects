{
  "nbformat": 4,
  "nbformat_minor": 0,
  "metadata": {
    "colab": {
      "name": "Swarm_Final_Project.ipynb",
      "provenance": [],
      "authorship_tag": "ABX9TyO1BKYmxLRPCtjQpsJs8gSL",
      "include_colab_link": true
    },
    "kernelspec": {
      "name": "python3",
      "display_name": "Python 3"
    },
    "accelerator": "GPU"
  },
  "cells": [
    {
      "cell_type": "markdown",
      "metadata": {
        "id": "view-in-github",
        "colab_type": "text"
      },
      "source": [
        "<a href=\"https://colab.research.google.com/github/Amansaini123/Final-Projects/blob/master/Swarm_Final_Project.ipynb\" target=\"_parent\"><img src=\"https://colab.research.google.com/assets/colab-badge.svg\" alt=\"Open In Colab\"/></a>"
      ]
    },
    {
      "cell_type": "markdown",
      "metadata": {
        "id": "9LWmaRVjxgDP"
      },
      "source": [
        "**UPLOADING THE CSV FILES**"
      ]
    },
    {
      "cell_type": "code",
      "metadata": {
        "colab": {
          "resources": {
            "http://localhost:8080/nbextensions/google.colab/files.js": {
              "data": "Ly8gQ29weXJpZ2h0IDIwMTcgR29vZ2xlIExMQwovLwovLyBMaWNlbnNlZCB1bmRlciB0aGUgQXBhY2hlIExpY2Vuc2UsIFZlcnNpb24gMi4wICh0aGUgIkxpY2Vuc2UiKTsKLy8geW91IG1heSBub3QgdXNlIHRoaXMgZmlsZSBleGNlcHQgaW4gY29tcGxpYW5jZSB3aXRoIHRoZSBMaWNlbnNlLgovLyBZb3UgbWF5IG9idGFpbiBhIGNvcHkgb2YgdGhlIExpY2Vuc2UgYXQKLy8KLy8gICAgICBodHRwOi8vd3d3LmFwYWNoZS5vcmcvbGljZW5zZXMvTElDRU5TRS0yLjAKLy8KLy8gVW5sZXNzIHJlcXVpcmVkIGJ5IGFwcGxpY2FibGUgbGF3IG9yIGFncmVlZCB0byBpbiB3cml0aW5nLCBzb2Z0d2FyZQovLyBkaXN0cmlidXRlZCB1bmRlciB0aGUgTGljZW5zZSBpcyBkaXN0cmlidXRlZCBvbiBhbiAiQVMgSVMiIEJBU0lTLAovLyBXSVRIT1VUIFdBUlJBTlRJRVMgT1IgQ09ORElUSU9OUyBPRiBBTlkgS0lORCwgZWl0aGVyIGV4cHJlc3Mgb3IgaW1wbGllZC4KLy8gU2VlIHRoZSBMaWNlbnNlIGZvciB0aGUgc3BlY2lmaWMgbGFuZ3VhZ2UgZ292ZXJuaW5nIHBlcm1pc3Npb25zIGFuZAovLyBsaW1pdGF0aW9ucyB1bmRlciB0aGUgTGljZW5zZS4KCi8qKgogKiBAZmlsZW92ZXJ2aWV3IEhlbHBlcnMgZm9yIGdvb2dsZS5jb2xhYiBQeXRob24gbW9kdWxlLgogKi8KKGZ1bmN0aW9uKHNjb3BlKSB7CmZ1bmN0aW9uIHNwYW4odGV4dCwgc3R5bGVBdHRyaWJ1dGVzID0ge30pIHsKICBjb25zdCBlbGVtZW50ID0gZG9jdW1lbnQuY3JlYXRlRWxlbWVudCgnc3BhbicpOwogIGVsZW1lbnQudGV4dENvbnRlbnQgPSB0ZXh0OwogIGZvciAoY29uc3Qga2V5IG9mIE9iamVjdC5rZXlzKHN0eWxlQXR0cmlidXRlcykpIHsKICAgIGVsZW1lbnQuc3R5bGVba2V5XSA9IHN0eWxlQXR0cmlidXRlc1trZXldOwogIH0KICByZXR1cm4gZWxlbWVudDsKfQoKLy8gTWF4IG51bWJlciBvZiBieXRlcyB3aGljaCB3aWxsIGJlIHVwbG9hZGVkIGF0IGEgdGltZS4KY29uc3QgTUFYX1BBWUxPQURfU0laRSA9IDEwMCAqIDEwMjQ7CgpmdW5jdGlvbiBfdXBsb2FkRmlsZXMoaW5wdXRJZCwgb3V0cHV0SWQpIHsKICBjb25zdCBzdGVwcyA9IHVwbG9hZEZpbGVzU3RlcChpbnB1dElkLCBvdXRwdXRJZCk7CiAgY29uc3Qgb3V0cHV0RWxlbWVudCA9IGRvY3VtZW50LmdldEVsZW1lbnRCeUlkKG91dHB1dElkKTsKICAvLyBDYWNoZSBzdGVwcyBvbiB0aGUgb3V0cHV0RWxlbWVudCB0byBtYWtlIGl0IGF2YWlsYWJsZSBmb3IgdGhlIG5leHQgY2FsbAogIC8vIHRvIHVwbG9hZEZpbGVzQ29udGludWUgZnJvbSBQeXRob24uCiAgb3V0cHV0RWxlbWVudC5zdGVwcyA9IHN0ZXBzOwoKICByZXR1cm4gX3VwbG9hZEZpbGVzQ29udGludWUob3V0cHV0SWQpOwp9CgovLyBUaGlzIGlzIHJvdWdobHkgYW4gYXN5bmMgZ2VuZXJhdG9yIChub3Qgc3VwcG9ydGVkIGluIHRoZSBicm93c2VyIHlldCksCi8vIHdoZXJlIHRoZXJlIGFyZSBtdWx0aXBsZSBhc3luY2hyb25vdXMgc3RlcHMgYW5kIHRoZSBQeXRob24gc2lkZSBpcyBnb2luZwovLyB0byBwb2xsIGZvciBjb21wbGV0aW9uIG9mIGVhY2ggc3RlcC4KLy8gVGhpcyB1c2VzIGEgUHJvbWlzZSB0byBibG9jayB0aGUgcHl0aG9uIHNpZGUgb24gY29tcGxldGlvbiBvZiBlYWNoIHN0ZXAsCi8vIHRoZW4gcGFzc2VzIHRoZSByZXN1bHQgb2YgdGhlIHByZXZpb3VzIHN0ZXAgYXMgdGhlIGlucHV0IHRvIHRoZSBuZXh0IHN0ZXAuCmZ1bmN0aW9uIF91cGxvYWRGaWxlc0NvbnRpbnVlKG91dHB1dElkKSB7CiAgY29uc3Qgb3V0cHV0RWxlbWVudCA9IGRvY3VtZW50LmdldEVsZW1lbnRCeUlkKG91dHB1dElkKTsKICBjb25zdCBzdGVwcyA9IG91dHB1dEVsZW1lbnQuc3RlcHM7CgogIGNvbnN0IG5leHQgPSBzdGVwcy5uZXh0KG91dHB1dEVsZW1lbnQubGFzdFByb21pc2VWYWx1ZSk7CiAgcmV0dXJuIFByb21pc2UucmVzb2x2ZShuZXh0LnZhbHVlLnByb21pc2UpLnRoZW4oKHZhbHVlKSA9PiB7CiAgICAvLyBDYWNoZSB0aGUgbGFzdCBwcm9taXNlIHZhbHVlIHRvIG1ha2UgaXQgYXZhaWxhYmxlIHRvIHRoZSBuZXh0CiAgICAvLyBzdGVwIG9mIHRoZSBnZW5lcmF0b3IuCiAgICBvdXRwdXRFbGVtZW50Lmxhc3RQcm9taXNlVmFsdWUgPSB2YWx1ZTsKICAgIHJldHVybiBuZXh0LnZhbHVlLnJlc3BvbnNlOwogIH0pOwp9CgovKioKICogR2VuZXJhdG9yIGZ1bmN0aW9uIHdoaWNoIGlzIGNhbGxlZCBiZXR3ZWVuIGVhY2ggYXN5bmMgc3RlcCBvZiB0aGUgdXBsb2FkCiAqIHByb2Nlc3MuCiAqIEBwYXJhbSB7c3RyaW5nfSBpbnB1dElkIEVsZW1lbnQgSUQgb2YgdGhlIGlucHV0IGZpbGUgcGlja2VyIGVsZW1lbnQuCiAqIEBwYXJhbSB7c3RyaW5nfSBvdXRwdXRJZCBFbGVtZW50IElEIG9mIHRoZSBvdXRwdXQgZGlzcGxheS4KICogQHJldHVybiB7IUl0ZXJhYmxlPCFPYmplY3Q+fSBJdGVyYWJsZSBvZiBuZXh0IHN0ZXBzLgogKi8KZnVuY3Rpb24qIHVwbG9hZEZpbGVzU3RlcChpbnB1dElkLCBvdXRwdXRJZCkgewogIGNvbnN0IGlucHV0RWxlbWVudCA9IGRvY3VtZW50LmdldEVsZW1lbnRCeUlkKGlucHV0SWQpOwogIGlucHV0RWxlbWVudC5kaXNhYmxlZCA9IGZhbHNlOwoKICBjb25zdCBvdXRwdXRFbGVtZW50ID0gZG9jdW1lbnQuZ2V0RWxlbWVudEJ5SWQob3V0cHV0SWQpOwogIG91dHB1dEVsZW1lbnQuaW5uZXJIVE1MID0gJyc7CgogIGNvbnN0IHBpY2tlZFByb21pc2UgPSBuZXcgUHJvbWlzZSgocmVzb2x2ZSkgPT4gewogICAgaW5wdXRFbGVtZW50LmFkZEV2ZW50TGlzdGVuZXIoJ2NoYW5nZScsIChlKSA9PiB7CiAgICAgIHJlc29sdmUoZS50YXJnZXQuZmlsZXMpOwogICAgfSk7CiAgfSk7CgogIGNvbnN0IGNhbmNlbCA9IGRvY3VtZW50LmNyZWF0ZUVsZW1lbnQoJ2J1dHRvbicpOwogIGlucHV0RWxlbWVudC5wYXJlbnRFbGVtZW50LmFwcGVuZENoaWxkKGNhbmNlbCk7CiAgY2FuY2VsLnRleHRDb250ZW50ID0gJ0NhbmNlbCB1cGxvYWQnOwogIGNvbnN0IGNhbmNlbFByb21pc2UgPSBuZXcgUHJvbWlzZSgocmVzb2x2ZSkgPT4gewogICAgY2FuY2VsLm9uY2xpY2sgPSAoKSA9PiB7CiAgICAgIHJlc29sdmUobnVsbCk7CiAgICB9OwogIH0pOwoKICAvLyBXYWl0IGZvciB0aGUgdXNlciB0byBwaWNrIHRoZSBmaWxlcy4KICBjb25zdCBmaWxlcyA9IHlpZWxkIHsKICAgIHByb21pc2U6IFByb21pc2UucmFjZShbcGlja2VkUHJvbWlzZSwgY2FuY2VsUHJvbWlzZV0pLAogICAgcmVzcG9uc2U6IHsKICAgICAgYWN0aW9uOiAnc3RhcnRpbmcnLAogICAgfQogIH07CgogIGNhbmNlbC5yZW1vdmUoKTsKCiAgLy8gRGlzYWJsZSB0aGUgaW5wdXQgZWxlbWVudCBzaW5jZSBmdXJ0aGVyIHBpY2tzIGFyZSBub3QgYWxsb3dlZC4KICBpbnB1dEVsZW1lbnQuZGlzYWJsZWQgPSB0cnVlOwoKICBpZiAoIWZpbGVzKSB7CiAgICByZXR1cm4gewogICAgICByZXNwb25zZTogewogICAgICAgIGFjdGlvbjogJ2NvbXBsZXRlJywKICAgICAgfQogICAgfTsKICB9CgogIGZvciAoY29uc3QgZmlsZSBvZiBmaWxlcykgewogICAgY29uc3QgbGkgPSBkb2N1bWVudC5jcmVhdGVFbGVtZW50KCdsaScpOwogICAgbGkuYXBwZW5kKHNwYW4oZmlsZS5uYW1lLCB7Zm9udFdlaWdodDogJ2JvbGQnfSkpOwogICAgbGkuYXBwZW5kKHNwYW4oCiAgICAgICAgYCgke2ZpbGUudHlwZSB8fCAnbi9hJ30pIC0gJHtmaWxlLnNpemV9IGJ5dGVzLCBgICsKICAgICAgICBgbGFzdCBtb2RpZmllZDogJHsKICAgICAgICAgICAgZmlsZS5sYXN0TW9kaWZpZWREYXRlID8gZmlsZS5sYXN0TW9kaWZpZWREYXRlLnRvTG9jYWxlRGF0ZVN0cmluZygpIDoKICAgICAgICAgICAgICAgICAgICAgICAgICAgICAgICAgICAgJ24vYSd9IC0gYCkpOwogICAgY29uc3QgcGVyY2VudCA9IHNwYW4oJzAlIGRvbmUnKTsKICAgIGxpLmFwcGVuZENoaWxkKHBlcmNlbnQpOwoKICAgIG91dHB1dEVsZW1lbnQuYXBwZW5kQ2hpbGQobGkpOwoKICAgIGNvbnN0IGZpbGVEYXRhUHJvbWlzZSA9IG5ldyBQcm9taXNlKChyZXNvbHZlKSA9PiB7CiAgICAgIGNvbnN0IHJlYWRlciA9IG5ldyBGaWxlUmVhZGVyKCk7CiAgICAgIHJlYWRlci5vbmxvYWQgPSAoZSkgPT4gewogICAgICAgIHJlc29sdmUoZS50YXJnZXQucmVzdWx0KTsKICAgICAgfTsKICAgICAgcmVhZGVyLnJlYWRBc0FycmF5QnVmZmVyKGZpbGUpOwogICAgfSk7CiAgICAvLyBXYWl0IGZvciB0aGUgZGF0YSB0byBiZSByZWFkeS4KICAgIGxldCBmaWxlRGF0YSA9IHlpZWxkIHsKICAgICAgcHJvbWlzZTogZmlsZURhdGFQcm9taXNlLAogICAgICByZXNwb25zZTogewogICAgICAgIGFjdGlvbjogJ2NvbnRpbnVlJywKICAgICAgfQogICAgfTsKCiAgICAvLyBVc2UgYSBjaHVua2VkIHNlbmRpbmcgdG8gYXZvaWQgbWVzc2FnZSBzaXplIGxpbWl0cy4gU2VlIGIvNjIxMTU2NjAuCiAgICBsZXQgcG9zaXRpb24gPSAwOwogICAgd2hpbGUgKHBvc2l0aW9uIDwgZmlsZURhdGEuYnl0ZUxlbmd0aCkgewogICAgICBjb25zdCBsZW5ndGggPSBNYXRoLm1pbihmaWxlRGF0YS5ieXRlTGVuZ3RoIC0gcG9zaXRpb24sIE1BWF9QQVlMT0FEX1NJWkUpOwogICAgICBjb25zdCBjaHVuayA9IG5ldyBVaW50OEFycmF5KGZpbGVEYXRhLCBwb3NpdGlvbiwgbGVuZ3RoKTsKICAgICAgcG9zaXRpb24gKz0gbGVuZ3RoOwoKICAgICAgY29uc3QgYmFzZTY0ID0gYnRvYShTdHJpbmcuZnJvbUNoYXJDb2RlLmFwcGx5KG51bGwsIGNodW5rKSk7CiAgICAgIHlpZWxkIHsKICAgICAgICByZXNwb25zZTogewogICAgICAgICAgYWN0aW9uOiAnYXBwZW5kJywKICAgICAgICAgIGZpbGU6IGZpbGUubmFtZSwKICAgICAgICAgIGRhdGE6IGJhc2U2NCwKICAgICAgICB9LAogICAgICB9OwogICAgICBwZXJjZW50LnRleHRDb250ZW50ID0KICAgICAgICAgIGAke01hdGgucm91bmQoKHBvc2l0aW9uIC8gZmlsZURhdGEuYnl0ZUxlbmd0aCkgKiAxMDApfSUgZG9uZWA7CiAgICB9CiAgfQoKICAvLyBBbGwgZG9uZS4KICB5aWVsZCB7CiAgICByZXNwb25zZTogewogICAgICBhY3Rpb246ICdjb21wbGV0ZScsCiAgICB9CiAgfTsKfQoKc2NvcGUuZ29vZ2xlID0gc2NvcGUuZ29vZ2xlIHx8IHt9OwpzY29wZS5nb29nbGUuY29sYWIgPSBzY29wZS5nb29nbGUuY29sYWIgfHwge307CnNjb3BlLmdvb2dsZS5jb2xhYi5fZmlsZXMgPSB7CiAgX3VwbG9hZEZpbGVzLAogIF91cGxvYWRGaWxlc0NvbnRpbnVlLAp9Owp9KShzZWxmKTsK",
              "ok": true,
              "headers": [
                [
                  "content-type",
                  "application/javascript"
                ]
              ],
              "status": 200,
              "status_text": ""
            }
          },
          "base_uri": "https://localhost:8080/",
          "height": 174
        },
        "id": "LJZktOOUxmCA",
        "outputId": "b1925225-6304-4b5a-838f-9a0d035aa094"
      },
      "source": [
        "from google.colab import files\n",
        "uploaded=files.upload()"
      ],
      "execution_count": 1,
      "outputs": [
        {
          "output_type": "display_data",
          "data": {
            "text/html": [
              "\n",
              "     <input type=\"file\" id=\"files-96832d89-dea8-45ac-879a-39422185a2da\" name=\"files[]\" multiple disabled\n",
              "        style=\"border:none\" />\n",
              "     <output id=\"result-96832d89-dea8-45ac-879a-39422185a2da\">\n",
              "      Upload widget is only available when the cell has been executed in the\n",
              "      current browser session. Please rerun this cell to enable.\n",
              "      </output>\n",
              "      <script src=\"/nbextensions/google.colab/files.js\"></script> "
            ],
            "text/plain": [
              "<IPython.core.display.HTML object>"
            ]
          },
          "metadata": {
            "tags": []
          }
        },
        {
          "output_type": "stream",
          "text": [
            "Saving links.csv to links.csv\n",
            "Saving movies.csv to movies.csv\n",
            "Saving ratings.csv to ratings.csv\n",
            "Saving tags.csv to tags.csv\n"
          ],
          "name": "stdout"
        }
      ]
    },
    {
      "cell_type": "code",
      "metadata": {
        "id": "OysNa3APxnYc"
      },
      "source": [
        "import pandas as pd\n",
        "import numpy as np\n",
        "from matplotlib import pyplot as plt\n",
        "# import sorting\n",
        "import random\n",
        "from sklearn.preprocessing import MinMaxScaler\n",
        "import math\n",
        "from collections import Counter,OrderedDict"
      ],
      "execution_count": 2,
      "outputs": []
    },
    {
      "cell_type": "markdown",
      "metadata": {
        "id": "btIXRZS9x76Q"
      },
      "source": [
        "**IMPORTING THE DATA**"
      ]
    },
    {
      "cell_type": "code",
      "metadata": {
        "id": "fZl1vArtyAZU"
      },
      "source": [
        "movie_data=pd.read_csv('movies.csv')\n",
        "links=pd.read_csv('links.csv')\n",
        "ratings=pd.read_csv('ratings.csv')\n",
        "tags=pd.read_csv('tags.csv')"
      ],
      "execution_count": 3,
      "outputs": []
    },
    {
      "cell_type": "code",
      "metadata": {
        "colab": {
          "base_uri": "https://localhost:8080/"
        },
        "id": "r7DVNCc0yCAa",
        "outputId": "b17211d2-4610-4352-b9f2-9727b8e795fa"
      },
      "source": [
        "# Taking the unique user id and movie id\n",
        "\n",
        "user_rating=np.zeros((len(np.unique(ratings['userId'])),len(np.unique(ratings['movieId']))))\n",
        "train=np.zeros(user_rating.shape)\n",
        "test=np.zeros(user_rating.shape)\n",
        "print(user_rating.shape)"
      ],
      "execution_count": 5,
      "outputs": [
        {
          "output_type": "stream",
          "text": [
            "(610, 9724)\n"
          ],
          "name": "stdout"
        }
      ]
    },
    {
      "cell_type": "markdown",
      "metadata": {
        "id": "8zAYTaU_zfuW"
      },
      "source": [
        "**USER RATING   (ANALYSING THE DATA)**"
      ]
    },
    {
      "cell_type": "code",
      "metadata": {
        "colab": {
          "base_uri": "https://localhost:8080/",
          "height": 265
        },
        "id": "abgU4gVMzqRS",
        "outputId": "96fe46a9-eb18-42fb-ef24-02b82b42f9d5"
      },
      "source": [
        "# Making the histogram\n",
        "\n",
        "# Rating varies between 1 to 5\n",
        "plt.hist(ratings['rating'],rwidth=0.5)\n",
        "plt.show()"
      ],
      "execution_count": 6,
      "outputs": [
        {
          "output_type": "display_data",
          "data": {
            "image/png": "[encoded data removed]",
            "text/plain": [
              "<Figure size 432x288 with 1 Axes>"
            ]
          },
          "metadata": {
            "tags": [],
            "needs_background": "light"
          }
        }
      ]
    },
    {
      "cell_type": "markdown",
      "metadata": {
        "id": "afLbZbnD0hbO"
      },
      "source": [
        "\n",
        "\n",
        "---\n",
        "**Number of users and Number of movies are**\n"
      ]
    },
    {
      "cell_type": "code",
      "metadata": {
        "colab": {
          "base_uri": "https://localhost:8080/"
        },
        "id": "6gnPnfh40pVi",
        "outputId": "2a0f5352-a5f5-4ae5-ba7a-9e8b5eb93ca6"
      },
      "source": [
        "print(\"Number of Users :\",len(np.unique(ratings[\"userId\"])))\n",
        "print(\"Number of movies :\",len(np.unique(movie_data[\"movieId\"])))"
      ],
      "execution_count": 7,
      "outputs": [
        {
          "output_type": "stream",
          "text": [
            "Number of Users : 610\n",
            "Number of movies : 9742\n"
          ],
          "name": "stdout"
        }
      ]
    },
    {
      "cell_type": "markdown",
      "metadata": {
        "id": "nGF0_bYw013_"
      },
      "source": [
        "**15 Movie with hisghest user rating are**"
      ]
    },
    {
      "cell_type": "code",
      "metadata": {
        "colab": {
          "base_uri": "https://localhost:8080/"
        },
        "id": "VddZVQiz0qrx",
        "outputId": "61c083ed-5fc2-4246-e8e4-2b370774b458"
      },
      "source": [
        "# Movie with highest user rating are :\n",
        "\n",
        "print(\"Movies with highest number of user ratings :\")\n",
        "for i in sorted(Counter(ratings[\"movieId\"]).items(), key=lambda x: x[1],reverse=True)[:15]:\n",
        "    print(movie_data[\"title\"][i[0]])"
      ],
      "execution_count": 8,
      "outputs": [
        {
          "output_type": "stream",
          "text": [
            "Movies with highest number of user ratings :\n",
            "Age of Innocence, The (1993)\n",
            "I Love Trouble (1994)\n",
            "Virtuosity (1995)\n",
            "Cemetery Man (Dellamorte Dellamore) (1994)\n",
            "Teenage Mutant Ninja Turtles II: The Secret of the Ooze (1991)\n",
            "Quiz Show (1994)\n",
            "Terminal Velocity (1994)\n",
            "Jupiter's Wife (1994)\n",
            "Last Dance (1996)\n",
            "Aristocats, The (1970)\n",
            "Billy Elliot (2000)\n",
            "Jumanji (1995)\n",
            "Picture Perfect (1997)\n",
            "Georgia (1995)\n",
            "Autumn in New York (2000)\n"
          ],
          "name": "stdout"
        }
      ]
    },
    {
      "cell_type": "code",
      "metadata": {
        "colab": {
          "base_uri": "https://localhost:8080/"
        },
        "id": "BDN7mx-l1B8i",
        "outputId": "b90e392d-4784-4db1-d69a-a2ee9ff9ae51"
      },
      "source": [
        "print(\"User who gave more ratings (User Number,Number of movies) :\")\n",
        "sorted(Counter(ratings[\"userId\"]).items(), key=lambda x: x[1],reverse=True)[:15]"
      ],
      "execution_count": 9,
      "outputs": [
        {
          "output_type": "stream",
          "text": [
            "User who gave more ratings (User Number,Number of movies) :\n"
          ],
          "name": "stdout"
        },
        {
          "output_type": "execute_result",
          "data": {
            "text/plain": [
              "[(414, 2698),\n",
              " (599, 2478),\n",
              " (474, 2108),\n",
              " (448, 1864),\n",
              " (274, 1346),\n",
              " (610, 1302),\n",
              " (68, 1260),\n",
              " (380, 1218),\n",
              " (606, 1115),\n",
              " (288, 1055),\n",
              " (249, 1046),\n",
              " (387, 1027),\n",
              " (182, 977),\n",
              " (307, 975),\n",
              " (603, 943)]"
            ]
          },
          "metadata": {
            "tags": []
          },
          "execution_count": 9
        }
      ]
    },
    {
      "cell_type": "markdown",
      "metadata": {
        "id": "c5cf1wiI1lDQ"
      },
      "source": [
        "**USER RATING MATRIX**"
      ]
    },
    {
      "cell_type": "code",
      "metadata": {
        "id": "uYFFiYji1nmo"
      },
      "source": [
        "for i in np.unique(ratings['userId']):\n",
        "    k=ratings[ratings['userId']==i]\n",
        "    for j in range(len(k)):\n",
        "        if (k['movieId'].iloc[j]-1<=9742):\n",
        "            user_rating[i-1,k['movieId'].iloc[j]-1]=k['rating'].iloc[j]"
      ],
      "execution_count": 10,
      "outputs": []
    },
    {
      "cell_type": "markdown",
      "metadata": {
        "id": "fgrllIO_4H5k"
      },
      "source": [
        "**Train Test Split of 80-20**"
      ]
    },
    {
      "cell_type": "code",
      "metadata": {
        "id": "NMkf3uTp4MSZ"
      },
      "source": [
        "t=int(np.count_nonzero(user_rating)*80/100)\n",
        "non_zero=[]\n",
        "for i in range(user_rating.shape[0]):\n",
        "    for j in range(user_rating.shape[1]):\n",
        "        if(user_rating[i,j]!=0):\n",
        "            non_zero.append([i,j])\n",
        "k=0\n",
        "while(k<=t):\n",
        "    i=random.randint(1,len(non_zero)-1)\n",
        "    train[non_zero[i][0],non_zero[i][1]]=user_rating[non_zero[i][0],non_zero[i][1]]\n",
        "    non_zero.remove(non_zero[i])\n",
        "    k=k+1"
      ],
      "execution_count": 11,
      "outputs": []
    },
    {
      "cell_type": "code",
      "metadata": {
        "colab": {
          "base_uri": "https://localhost:8080/"
        },
        "id": "3KMCrh834TaQ",
        "outputId": "f757ec6a-3abb-49fd-80c9-3760f3cda087"
      },
      "source": [
        "train"
      ],
      "execution_count": 12,
      "outputs": [
        {
          "output_type": "execute_result",
          "data": {
            "text/plain": [
              "array([[0. , 0. , 4. , ..., 0. , 0. , 0. ],\n",
              "       [0. , 0. , 0. , ..., 0. , 0. , 0. ],\n",
              "       [0. , 0. , 0. , ..., 0. , 0. , 0. ],\n",
              "       ...,\n",
              "       [2.5, 2. , 2. , ..., 0. , 0. , 0. ],\n",
              "       [0. , 0. , 0. , ..., 0. , 0. , 0. ],\n",
              "       [5. , 0. , 0. , ..., 0. , 0. , 0. ]])"
            ]
          },
          "metadata": {
            "tags": []
          },
          "execution_count": 12
        }
      ]
    },
    {
      "cell_type": "code",
      "metadata": {
        "id": "1H5ZzZPH4WxW"
      },
      "source": [
        "for i in non_zero:\n",
        "    test[i[0],i[1]]=user_rating[i[0],i[1]]"
      ],
      "execution_count": 13,
      "outputs": []
    },
    {
      "cell_type": "code",
      "metadata": {
        "colab": {
          "base_uri": "https://localhost:8080/"
        },
        "id": "O_-fQih_4cZS",
        "outputId": "dac9f504-7cd5-4c3f-f0e8-ac9ccb40507a"
      },
      "source": [
        "test"
      ],
      "execution_count": 14,
      "outputs": [
        {
          "output_type": "execute_result",
          "data": {
            "text/plain": [
              "array([[4., 0., 0., ..., 0., 0., 0.],\n",
              "       [0., 0., 0., ..., 0., 0., 0.],\n",
              "       [0., 0., 0., ..., 0., 0., 0.],\n",
              "       ...,\n",
              "       [0., 0., 0., ..., 0., 0., 0.],\n",
              "       [3., 0., 0., ..., 0., 0., 0.],\n",
              "       [0., 0., 0., ..., 0., 0., 0.]])"
            ]
          },
          "metadata": {
            "tags": []
          },
          "execution_count": 14
        }
      ]
    },
    {
      "cell_type": "markdown",
      "metadata": {
        "id": "NMl_xNTO4r6L"
      },
      "source": [
        "**Matrix Factorization using Gradient Descent**"
      ]
    },
    {
      "cell_type": "code",
      "metadata": {
        "id": "FYxvmVsw4vkG"
      },
      "source": [
        "user=np.random.rand(user_rating.shape[0],5)\n",
        "movies=np.random.randint(4,size=(user_rating.shape[1],5))\n",
        "I=np.zeros(user_rating.shape)\n",
        "Itest=np.zeros(user_rating.shape)\n",
        "Itrain=np.zeros(user_rating.shape)"
      ],
      "execution_count": 15,
      "outputs": []
    },
    {
      "cell_type": "code",
      "metadata": {
        "id": "u9kZNkLw5Nrn"
      },
      "source": [
        "for i in range(user_rating.shape[0]):\n",
        "    for j in range(user_rating.shape[1]):\n",
        "        if(user_rating[i][j]!=0):\n",
        "            I[i][j]=1"
      ],
      "execution_count": 16,
      "outputs": []
    },
    {
      "cell_type": "code",
      "metadata": {
        "id": "d7lFD8045Rn2"
      },
      "source": [
        "def gradient(user,movies,result):\n",
        "    user=user+2*0.000001*(result.dot(movies))\n",
        "    movies=movies+2*0.000001*(result.T.dot(user))\n",
        "    return(user,movies)\n",
        "def prediction(user,movies,user_r,k):\n",
        "    error=[]\n",
        "    for i in range(k):\n",
        "        result=np.multiply((user_r-user.dot(movies.T)),I)\n",
        "        user,movie=gradient(user,movies,result)\n",
        "        error.append(np.sum(np.square(result)))\n",
        "    return(error,user,movies)"
      ],
      "execution_count": 17,
      "outputs": []
    },
    {
      "cell_type": "code",
      "metadata": {
        "id": "BI95dKug5aK6"
      },
      "source": [
        "def accuracy (user,movies,data,k):\n",
        "    error1=prediction(user,movies,data,k)\n",
        "    result1=error1[1].dot(error1[2].T)\n",
        "    e=0\n",
        "    for i in range(data.shape[0]):\n",
        "        for j in range(data.shape[1]):\n",
        "            if(data[i,j]!=0):\n",
        "                e+=(data[i,j]-result1[i,j])**2\n",
        "    return(math.sqrt(e/np.count_nonzero(data)),result1)"
      ],
      "execution_count": 18,
      "outputs": []
    },
    {
      "cell_type": "code",
      "metadata": {
        "id": "hlxq4w9i5c7Q"
      },
      "source": [
        "train_ac,train_result=accuracy(user,movies,train,1000)"
      ],
      "execution_count": 19,
      "outputs": []
    },
    {
      "cell_type": "code",
      "metadata": {
        "colab": {
          "base_uri": "https://localhost:8080/"
        },
        "id": "JUjcZgar5fM8",
        "outputId": "665095e0-79a2-4452-8b6a-fa14c24bc007"
      },
      "source": [
        "train_ac"
      ],
      "execution_count": 20,
      "outputs": [
        {
          "output_type": "execute_result",
          "data": {
            "text/plain": [
              "1.6631464237531344"
            ]
          },
          "metadata": {
            "tags": []
          },
          "execution_count": 20
        }
      ]
    },
    {
      "cell_type": "code",
      "metadata": {
        "id": "n6TFrj8H5kLQ"
      },
      "source": [
        "test_ac,test_result=accuracy(user,movies,test,1000)"
      ],
      "execution_count": 21,
      "outputs": []
    },
    {
      "cell_type": "code",
      "metadata": {
        "colab": {
          "base_uri": "https://localhost:8080/"
        },
        "id": "SmPuNeQY5m8C",
        "outputId": "46038585-47f6-49dd-c7f2-30b60af22026"
      },
      "source": [
        "test_ac"
      ],
      "execution_count": 22,
      "outputs": [
        {
          "output_type": "execute_result",
          "data": {
            "text/plain": [
              "2.8827957564181603"
            ]
          },
          "metadata": {
            "tags": []
          },
          "execution_count": 22
        }
      ]
    },
    {
      "cell_type": "markdown",
      "metadata": {
        "id": "1UW3l9F47vVo"
      },
      "source": [
        "**Regularised Matrix Factorization**"
      ]
    },
    {
      "cell_type": "code",
      "metadata": {
        "id": "SC5-JjGj7w_D"
      },
      "source": [
        "beta=0.0001\n",
        "def prediction2(user,movies,user_r,k):\n",
        "    error=[]\n",
        "    for i in range(k):\n",
        "        result=np.square(np.multiply((user_r-user.dot(movies.T)),I))+beta*((np.sum(np.square(user))+(np.sum(np.square(movies)))))\n",
        "        user,movies=gradient2(user,movies,result)\n",
        "        error.append(np.sum(1/(2*user_r.shape[0])*np.square(result)))\n",
        "    return(error,user,movies)\n",
        "\n",
        "def gradient2(user,movies,result):\n",
        "    user=user-0.000000001*(2*(result.dot(movies))+2*beta*(np.sum(user)))\n",
        "    movies=movies-0.00000001*(2*(result.T.dot(user))+2*beta*np.sum(movies))\n",
        "    return(user,movies)"
      ],
      "execution_count": 23,
      "outputs": []
    },
    {
      "cell_type": "code",
      "metadata": {
        "id": "ixHsZ7lZ7ygU"
      },
      "source": [
        "def accuracy_regularised(user,movies,data,k):\n",
        "    error2=prediction2(user,movies,data,k)\n",
        "    result2=error2[1].dot(error2[2].T)\n",
        "    e=0\n",
        "    for i in range(data.shape[0]):\n",
        "        for j in range(data.shape[1]):\n",
        "            if(data[i,j]!=0):\n",
        "                e+=(data[i,j]-result2[i,j])**2\n",
        "    return(math.sqrt(e/np.count_nonzero(data)),result2)"
      ],
      "execution_count": 24,
      "outputs": []
    },
    {
      "cell_type": "code",
      "metadata": {
        "id": "XlrsLUrm70-d"
      },
      "source": [
        "train_ac_r,train_result_re=accuracy_regularised(user,movies,train,1000)\n",
        "test_ac_r,test_result_re=accuracy_regularised(user,movies,test,1000)"
      ],
      "execution_count": 25,
      "outputs": []
    },
    {
      "cell_type": "code",
      "metadata": {
        "colab": {
          "base_uri": "https://localhost:8080/"
        },
        "id": "s77r0P_G75On",
        "outputId": "50e76bf2-ff9f-4c71-c9f4-d56393ba9e88"
      },
      "source": [
        "train_ac_r"
      ],
      "execution_count": 26,
      "outputs": [
        {
          "output_type": "execute_result",
          "data": {
            "text/plain": [
              "3.633071644565218"
            ]
          },
          "metadata": {
            "tags": []
          },
          "execution_count": 26
        }
      ]
    },
    {
      "cell_type": "code",
      "metadata": {
        "colab": {
          "base_uri": "https://localhost:8080/"
        },
        "id": "axgjzDv57616",
        "outputId": "3eb5deca-60fa-47cc-c0dc-0569fc00fab7"
      },
      "source": [
        "test_ac_r"
      ],
      "execution_count": 27,
      "outputs": [
        {
          "output_type": "execute_result",
          "data": {
            "text/plain": [
              "3.63362959895631"
            ]
          },
          "metadata": {
            "tags": []
          },
          "execution_count": 27
        }
      ]
    },
    {
      "cell_type": "markdown",
      "metadata": {
        "id": "Fw-l_6TJ8LrC"
      },
      "source": [
        "**Sliding Window**"
      ]
    },
    {
      "cell_type": "code",
      "metadata": {
        "id": "FZqmKBKK8ORR"
      },
      "source": [
        "def gradient_sliding_w(user,movies,result):\n",
        "    user=user+2*0.0000001*(result.dot(movies))\n",
        "    movies=movies+2*0.0000001*(result.T.dot(user))\n",
        "    return(user,movies)\n",
        "def prediction_sliding_w(user,movies,user_r,k,win_size):\n",
        "    error=[]\n",
        "    win=[]\n",
        "    for i in range(k):\n",
        "        result=np.multiply((user_r-user.dot(movies.T)),I)\n",
        "        user,movie=gradient_sliding_w(user,movies,result)\n",
        "        e=np.sum(np.square(result))\n",
        "        error.append(e)\n",
        "        if(i<win_size):\n",
        "            win.append(e)\n",
        "        else:\n",
        "            mean1=sum(win)/win_size\n",
        "            del win[0]\n",
        "            win.append(e)\n",
        "            mean2=sum(win)/win_size\n",
        "            if(mean1<mean2):\n",
        "                break\n",
        "            else:\n",
        "                continue\n",
        "    return(error,user,movies)"
      ],
      "execution_count": 28,
      "outputs": []
    },
    {
      "cell_type": "code",
      "metadata": {
        "id": "liRXyr5v8T4u"
      },
      "source": [
        "def accuracy_sliding_w(user,movies,data,k,win_size):\n",
        "    error1=prediction_sliding_w(user,movies,data,k,win_size)\n",
        "    result1=error1[1].dot(error1[2].T)\n",
        "    e=0\n",
        "    for i in range(data.shape[0]):\n",
        "        for j in range(data.shape[1]):\n",
        "            if(data[i,j]!=0):\n",
        "                e+=(data[i,j]-result1[i,j])**2\n",
        "    return(math.sqrt(e/np.count_nonzero(data)),result1)"
      ],
      "execution_count": 29,
      "outputs": []
    },
    {
      "cell_type": "code",
      "metadata": {
        "id": "IComNn0R8WKQ"
      },
      "source": [
        "train_ac_sw,train_result_sw=accuracy_sliding_w(user,movies,train,2000,10)\n",
        "test_ac_sw,test_result_sw=accuracy_sliding_w(user,movies,test,2000,10)"
      ],
      "execution_count": 30,
      "outputs": []
    },
    {
      "cell_type": "code",
      "metadata": {
        "colab": {
          "base_uri": "https://localhost:8080/"
        },
        "id": "qtSzE2rp8X42",
        "outputId": "5485d67f-4275-4815-b2bb-13fe217c7864"
      },
      "source": [
        "train_ac_sw"
      ],
      "execution_count": 31,
      "outputs": [
        {
          "output_type": "execute_result",
          "data": {
            "text/plain": [
              "1.7130019483560677"
            ]
          },
          "metadata": {
            "tags": []
          },
          "execution_count": 31
        }
      ]
    },
    {
      "cell_type": "code",
      "metadata": {
        "colab": {
          "base_uri": "https://localhost:8080/"
        },
        "id": "Itodb-VN8ZL3",
        "outputId": "999e18e2-b33b-43ef-aed9-c29ff55828e5"
      },
      "source": [
        "test_ac_sw"
      ],
      "execution_count": 32,
      "outputs": [
        {
          "output_type": "execute_result",
          "data": {
            "text/plain": [
              "2.4454969771183093"
            ]
          },
          "metadata": {
            "tags": []
          },
          "execution_count": 32
        }
      ]
    },
    {
      "cell_type": "markdown",
      "metadata": {
        "id": "e49c2Y-W8d23"
      },
      "source": [
        "**Line Search**\n",
        "\n",
        "\n"
      ]
    },
    {
      "cell_type": "code",
      "metadata": {
        "id": "Nk6M0LK08gs7"
      },
      "source": [
        "def gradient_line_search(user,movies,result,alpha):\n",
        "    user=user+2*alpha*(result.dot(movies))\n",
        "    movies=movies+2*alpha*(result.T.dot(user))\n",
        "    return(user,movies)\n",
        "def prediction_line_search(user,movies,user_r,k,threshold):\n",
        "    error=[]\n",
        "    jold=0\n",
        "    jnew=0\n",
        "    alpha=1/9000\n",
        "    for i in range(k):\n",
        "        result=np.multiply((user_r-user.dot(movies.T)),I)\n",
        "        jnew=np.sum(np.square(result))\n",
        "        error.append([jnew])\n",
        "        if(abs(jold-jnew)>threshold):\n",
        "            alpha=alpha/10\n",
        "            user,movie=gradient_line_search(user,movies,result,alpha)\n",
        "        else:\n",
        "            break\n",
        "        jold=jnew\n",
        "    return(error,user,movies)"
      ],
      "execution_count": 33,
      "outputs": []
    },
    {
      "cell_type": "code",
      "metadata": {
        "id": "iJyElNUY8n1H"
      },
      "source": [
        "def accuracy_line_search(user,movies,data,k,win_size):\n",
        "    error1=prediction_line_search(user,movies,data,k,win_size)\n",
        "    result1=error1[1].dot(error1[2].T)\n",
        "    e=0\n",
        "    for i in range(data.shape[0]):\n",
        "        for j in range(data.shape[1]):\n",
        "            if(data[i,j]!=0):\n",
        "                e+=(data[i,j]-result1[i,j])**2\n",
        "    return(math.sqrt(e/np.count_nonzero(data)),result1)"
      ],
      "execution_count": 34,
      "outputs": []
    },
    {
      "cell_type": "code",
      "metadata": {
        "id": "LxvxKL3Z8q6x"
      },
      "source": [
        "train_ac_ls,train_result_ls=accuracy_line_search(user,movies,train,1000,0.001)\n",
        "test_ac_ls,test_result_ls=accuracy_line_search(user,movies,test,1000,0.001)"
      ],
      "execution_count": 35,
      "outputs": []
    },
    {
      "cell_type": "code",
      "metadata": {
        "colab": {
          "base_uri": "https://localhost:8080/"
        },
        "id": "u80LsKfp8uoe",
        "outputId": "fa2456f9-4470-46b8-b224-c61336fe2ba8"
      },
      "source": [
        "train_ac_ls"
      ],
      "execution_count": 36,
      "outputs": [
        {
          "output_type": "execute_result",
          "data": {
            "text/plain": [
              "1.9450848357623758"
            ]
          },
          "metadata": {
            "tags": []
          },
          "execution_count": 36
        }
      ]
    },
    {
      "cell_type": "code",
      "metadata": {
        "colab": {
          "base_uri": "https://localhost:8080/"
        },
        "id": "iTK3VGcc8wFw",
        "outputId": "6163ae24-9797-4763-9480-24475abad9bf"
      },
      "source": [
        "test_ac_ls"
      ],
      "execution_count": 37,
      "outputs": [
        {
          "output_type": "execute_result",
          "data": {
            "text/plain": [
              "1.9363991056973726"
            ]
          },
          "metadata": {
            "tags": []
          },
          "execution_count": 37
        }
      ]
    },
    {
      "cell_type": "markdown",
      "metadata": {
        "id": "oVvkJQwx80rE"
      },
      "source": [
        "**PSO**"
      ]
    },
    {
      "cell_type": "code",
      "metadata": {
        "id": "8977HBDA83SM"
      },
      "source": [
        "def update_param(param,c1,alpha):\n",
        "    user=param['user']+alpha*(c1*param['du']-(1-c1)*(param['Best_user']-param['user']))\n",
        "    movies=param['movies']+alpha*(c1*param['dm']-(1-c1)*(param['Best_movies']-param['movies']))\n",
        "    return(user,movies)\n",
        "def gradient(user,movies,result):\n",
        "    du=result.dot(movies)\n",
        "    dw=result.T.dot(user)\n",
        "    return(du,dw)\n",
        "def cost(user,movies,user_r,k,c1,alpha):\n",
        "    error=[]\n",
        "    min_cost=100000000000\n",
        "    best_u=user\n",
        "    best_m=movies\n",
        "    for i in range(k):\n",
        "        result=np.multiply((user_r-user.dot(movies.T)),I)\n",
        "        error.append(np.sum(np.square(result)))\n",
        "        if(min_cost>error[i]):\n",
        "            min_cost=error[i]\n",
        "            best_u=user\n",
        "            best_m=movies\n",
        "        du,dm=gradient(user,movies,result)\n",
        "        param={'du':du,'dm':dm,'user':user,'movies':movies,'result':result,'Best_user':best_u,'Best_movies':best_m}\n",
        "        user,movies=update_param(param,c1,alpha)\n",
        "    return(error,user,movies)"
      ],
      "execution_count": 38,
      "outputs": []
    },
    {
      "cell_type": "code",
      "metadata": {
        "id": "x0PvT-JK884j"
      },
      "source": [
        "def accuracy_pso(user,movies,data,k,c1,alpha):\n",
        "    error1=cost(user,movies,data,k,c1,alpha)\n",
        "    result1=error1[1].dot(error1[2].T)\n",
        "    e=0\n",
        "    for i in range(data.shape[0]):\n",
        "        for j in range(data.shape[1]):\n",
        "            if(data[i,j]!=0):\n",
        "                e+=(data[i,j]-result1[i,j])**2\n",
        "    return(math.sqrt(e/np.count_nonzero(data)),result1)"
      ],
      "execution_count": 39,
      "outputs": []
    },
    {
      "cell_type": "code",
      "metadata": {
        "id": "r0s5O3cP8-h2"
      },
      "source": [
        "train_ac_pso,train_result_pso=accuracy_pso(user,movies,train,1000,0.9,0.0001)\n",
        "test_ac_pso,test_result_pso=accuracy_pso(user,movies,test,1000,0.9,0.0001)"
      ],
      "execution_count": 40,
      "outputs": []
    },
    {
      "cell_type": "code",
      "metadata": {
        "colab": {
          "base_uri": "https://localhost:8080/"
        },
        "id": "Lf1Wk-P-9BRN",
        "outputId": "d5115837-0e72-4402-87f0-9d49dfa6d2fe"
      },
      "source": [
        "train_ac_pso"
      ],
      "execution_count": 41,
      "outputs": [
        {
          "output_type": "execute_result",
          "data": {
            "text/plain": [
              "1.15734939608026"
            ]
          },
          "metadata": {
            "tags": []
          },
          "execution_count": 41
        }
      ]
    },
    {
      "cell_type": "code",
      "metadata": {
        "colab": {
          "base_uri": "https://localhost:8080/"
        },
        "id": "RZP4CK9d9C0n",
        "outputId": "e4f7791b-6285-4bca-aeda-d1c691c69e09"
      },
      "source": [
        "test_ac_pso"
      ],
      "execution_count": 42,
      "outputs": [
        {
          "output_type": "execute_result",
          "data": {
            "text/plain": [
              "2.8797161733501393"
            ]
          },
          "metadata": {
            "tags": []
          },
          "execution_count": 42
        }
      ]
    },
    {
      "cell_type": "markdown",
      "metadata": {
        "id": "vqbiHbn79JLe"
      },
      "source": [
        "**RECOMENDATION**"
      ]
    },
    {
      "cell_type": "code",
      "metadata": {
        "id": "0xsli3Gf9MTH"
      },
      "source": [
        "def find_movie(rating_matrix):\n",
        "    l=[]\n",
        "    for i in range(rating_matrix.shape[0]):\n",
        "        t=[]\n",
        "        q=sorted(range(len(rating_matrix[0])), key=lambda k: rating_matrix[i][k])\n",
        "        q.reverse()\n",
        "        for j in q:\n",
        "            if(user_rating[i,j]==0):\n",
        "                t.append(j)\n",
        "        l.append(t)\n",
        "    return(l)"
      ],
      "execution_count": 43,
      "outputs": []
    },
    {
      "cell_type": "code",
      "metadata": {
        "id": "ltZb8K_59O74"
      },
      "source": [
        "def recommendation(user,n,l):\n",
        "    i=0\n",
        "    while(n>=0):\n",
        "        print(l[user][i],\"    \",movie_data[\"title\"][l[user][i]])\n",
        "        i=i+1\n",
        "        n=n-1"
      ],
      "execution_count": 44,
      "outputs": []
    },
    {
      "cell_type": "code",
      "metadata": {
        "colab": {
          "base_uri": "https://localhost:8080/"
        },
        "id": "rU7ytR3_9RE8",
        "outputId": "8359b1bc-fc76-43e8-bb9c-b4a7fc782ca0"
      },
      "source": [
        "t=prediction(user,movies,user_rating,1000)\n",
        "predicted_matrix=t[1].dot(t[2].T)"
      ],
      "execution_count": 45,
      "outputs": [
        {
          "output_type": "stream",
          "text": [
            "/usr/local/lib/python3.6/dist-packages/numpy/core/fromnumeric.py:90: RuntimeWarning: overflow encountered in reduce\n",
            "  return ufunc.reduce(obj, axis, dtype, out, **passkwargs)\n",
            "/usr/local/lib/python3.6/dist-packages/ipykernel_launcher.py:10: RuntimeWarning: overflow encountered in square\n",
            "  # Remove the CWD from sys.path while we load stuff.\n",
            "/usr/local/lib/python3.6/dist-packages/ipykernel_launcher.py:8: RuntimeWarning: invalid value encountered in multiply\n",
            "  \n"
          ],
          "name": "stderr"
        }
      ]
    },
    {
      "cell_type": "code",
      "metadata": {
        "colab": {
          "base_uri": "https://localhost:8080/"
        },
        "id": "UQ-_hntQ9TNm",
        "outputId": "5487f158-28bd-439b-e818-01e1e508709b"
      },
      "source": [
        "recommendation(2,5,find_movie(predicted_matrix))"
      ],
      "execution_count": 46,
      "outputs": [
        {
          "output_type": "stream",
          "text": [
            "9723      BlacKkKlansman (2018)\n",
            "9722      Iron Soldier (2010)\n",
            "9721      SuperFly (2018)\n",
            "9720      Mission: Impossible - Fallout (2018)\n",
            "9719      Spiral (2018)\n",
            "9718      Boundaries (2018)\n"
          ],
          "name": "stdout"
        }
      ]
    },
    {
      "cell_type": "code",
      "metadata": {
        "id": "g-HjEmO-9W8x"
      },
      "source": [
        "t_re=prediction2(user,movies,user_rating,100)\n",
        "predicted_matrix_re=t_re[1].dot(t_re[2].T)"
      ],
      "execution_count": 47,
      "outputs": []
    },
    {
      "cell_type": "code",
      "metadata": {
        "colab": {
          "base_uri": "https://localhost:8080/"
        },
        "id": "-454Gt6_9Yfk",
        "outputId": "b09e9bc2-1dbc-43e4-e313-56d4ff7d03d8"
      },
      "source": [
        "recommendation(2,5,find_movie(predicted_matrix_re))"
      ],
      "execution_count": 48,
      "outputs": [
        {
          "output_type": "stream",
          "text": [
            "7553      Hard Ticket to Hawaii (1987)\n",
            "5260      Spider-Man 2 (2004)\n",
            "688      Gaslight (1944)\n",
            "8606      The Voices (2014)\n",
            "8168      Captain America (1979)\n",
            "8159      Star Trek Into Darkness (2013)\n"
          ],
          "name": "stdout"
        }
      ]
    },
    {
      "cell_type": "code",
      "metadata": {
        "id": "MGKdDPW_9Zy9"
      },
      "source": [
        "t_sw=prediction_sliding_w(user,movies,user_rating,1000,15)\n",
        "predicted_matrix_sw=t_sw[1].dot(t_sw[2].T)"
      ],
      "execution_count": 49,
      "outputs": []
    },
    {
      "cell_type": "code",
      "metadata": {
        "colab": {
          "base_uri": "https://localhost:8080/"
        },
        "id": "D65hTeUB9bMt",
        "outputId": "b2071742-7c2f-41e6-dcdb-0ec81d9a1fb3"
      },
      "source": [
        "recommendation(2,5,find_movie(predicted_matrix_sw))"
      ],
      "execution_count": 50,
      "outputs": [
        {
          "output_type": "stream",
          "text": [
            "8606      The Voices (2014)\n",
            "8168      Captain America (1979)\n",
            "7553      Hard Ticket to Hawaii (1987)\n",
            "5260      Spider-Man 2 (2004)\n",
            "688      Gaslight (1944)\n",
            "8159      Star Trek Into Darkness (2013)\n"
          ],
          "name": "stdout"
        }
      ]
    },
    {
      "cell_type": "code",
      "metadata": {
        "id": "IBgJuf4D9cnu"
      },
      "source": [
        "t_ls=prediction_line_search(user,movies,user_rating,1000,0.00001)\n",
        "predicted_matrix_ls=t_ls[1].dot(t_ls[2].T)"
      ],
      "execution_count": 51,
      "outputs": []
    },
    {
      "cell_type": "code",
      "metadata": {
        "colab": {
          "base_uri": "https://localhost:8080/"
        },
        "id": "x_KBLycC9d2c",
        "outputId": "72344d03-b1f8-4df1-83bd-28e1d8b6663b"
      },
      "source": [
        "recommendation(2,5,find_movie(predicted_matrix_ls))"
      ],
      "execution_count": 52,
      "outputs": [
        {
          "output_type": "stream",
          "text": [
            "8606      The Voices (2014)\n",
            "8168      Captain America (1979)\n",
            "7553      Hard Ticket to Hawaii (1987)\n",
            "5260      Spider-Man 2 (2004)\n",
            "688      Gaslight (1944)\n",
            "8159      Star Trek Into Darkness (2013)\n"
          ],
          "name": "stdout"
        }
      ]
    },
    {
      "cell_type": "code",
      "metadata": {
        "id": "fW1lbOhM9fS4"
      },
      "source": [
        "t_pso=cost(user,movies,user_rating,1000,0.9,0.00001)\n",
        "predicted_matrix_pso=t_pso[1].dot(t_pso[2].T)"
      ],
      "execution_count": 53,
      "outputs": []
    },
    {
      "cell_type": "code",
      "metadata": {
        "colab": {
          "base_uri": "https://localhost:8080/"
        },
        "id": "7KgH3FUz9ghO",
        "outputId": "bd0bd167-7ba5-416c-b708-106923725fd2"
      },
      "source": [
        "recommendation(2,5,find_movie(predicted_matrix_pso))"
      ],
      "execution_count": 54,
      "outputs": [
        {
          "output_type": "stream",
          "text": [
            "7553      Hard Ticket to Hawaii (1987)\n",
            "5260      Spider-Man 2 (2004)\n",
            "688      Gaslight (1944)\n",
            "8606      The Voices (2014)\n",
            "8168      Captain America (1979)\n",
            "8159      Star Trek Into Darkness (2013)\n"
          ],
          "name": "stdout"
        }
      ]
    },
    {
      "cell_type": "code",
      "metadata": {
        "id": "h2JEVvu39h6x"
      },
      "source": [
        "def show(mat):\n",
        "    rate=[]\n",
        "    for i in range(user_rating.shape[0]):\n",
        "        for j in range(user_rating.shape[1]):\n",
        "            if(user_rating[i][j]!=0):\n",
        "                rate.append(mat[i][j])\n",
        "    m=min(rate)\n",
        "    n=max(rate)\n",
        "    plt.hist([(r-m)/(n-m) for r in rate],rwidth=0.5)\n",
        "    plt.show()"
      ],
      "execution_count": 55,
      "outputs": []
    },
    {
      "cell_type": "code",
      "metadata": {
        "colab": {
          "base_uri": "https://localhost:8080/",
          "height": 282
        },
        "id": "obPjIp6Y9nvg",
        "outputId": "8f2970e7-c1dc-4d90-fc0e-785d4c902961"
      },
      "source": [
        "print(\"Using matrix Regularisation :\")\n",
        "show(predicted_matrix_re)"
      ],
      "execution_count": 60,
      "outputs": [
        {
          "output_type": "stream",
          "text": [
            "Using matrix Regularisation :\n"
          ],
          "name": "stdout"
        },
        {
          "output_type": "display_data",
          "data": {
            "image/png": "[encoded data removed]",
            "text/plain": [
              "<Figure size 432x288 with 1 Axes>"
            ]
          },
          "metadata": {
            "tags": [],
            "needs_background": "light"
          }
        }
      ]
    },
    {
      "cell_type": "code",
      "metadata": {
        "colab": {
          "base_uri": "https://localhost:8080/",
          "height": 282
        },
        "id": "S4veOxwd9rT3",
        "outputId": "bd56e0e2-63cc-4d1d-b526-f0efb393e08f"
      },
      "source": [
        "print(\"Using line search :\")\n",
        "show(predicted_matrix_ls)"
      ],
      "execution_count": 61,
      "outputs": [
        {
          "output_type": "stream",
          "text": [
            "Using line search :\n"
          ],
          "name": "stdout"
        },
        {
          "output_type": "display_data",
          "data": {
            "image/png": "[encoded data removed]",
            "text/plain": [
              "<Figure size 432x288 with 1 Axes>"
            ]
          },
          "metadata": {
            "tags": [],
            "needs_background": "light"
          }
        }
      ]
    },
    {
      "cell_type": "code",
      "metadata": {
        "id": "4YfaVgzP9sfe"
      },
      "source": [
        ""
      ],
      "execution_count": null,
      "outputs": []
    }
  ]
}