{
  "nbformat": 4,
  "nbformat_minor": 0,
  "metadata": {
    "colab": {
      "name": "M9_Imdb_Sentiment_Analycis.ipynb",
      "provenance": [],
      "collapsed_sections": [],
      "authorship_tag": "ABX9TyMW0zqiO7jHKp3E70QpF5nW",
      "include_colab_link": true
    },
    "kernelspec": {
      "name": "python3",
      "display_name": "Python 3"
    },
    "accelerator": "TPU"
  },
  "cells": [
    {
      "cell_type": "markdown",
      "metadata": {
        "id": "view-in-github",
        "colab_type": "text"
      },
      "source": [
        "<a href=\"https://colab.research.google.com/github/Amansaini123/Final-Projects/blob/master/M9_Imdb_Sentiment_Analycis.ipynb\" target=\"_parent\"><img src=\"https://colab.research.google.com/assets/colab-badge.svg\" alt=\"Open In Colab\"/></a>"
      ]
    },
    {
      "cell_type": "markdown",
      "metadata": {
        "id": "isdSj_33cWMQ",
        "colab_type": "text"
      },
      "source": [
        "\n",
        "**Classification on the movie Reviews**\n",
        "\n",
        "\n",
        "*   *Binary classification (POS OR NEG) on IMDB Dataset*\n",
        "*   *Input is 50k reviews and output is pos or neg i.e output is binary*\n",
        "\n",
        "\n",
        "\n",
        "\n"
      ]
    },
    {
      "cell_type": "code",
      "metadata": {
        "id": "vW6xMptNcNGB",
        "colab_type": "code",
        "colab": {}
      },
      "source": [
        "# imdb is present inbuilt in the keras or we can download it otherwise\n",
        "from keras.datasets import imdb"
      ],
      "execution_count": 72,
      "outputs": []
    },
    {
      "cell_type": "markdown",
      "metadata": {
        "id": "HEHlAP3dU9Jd",
        "colab_type": "text"
      },
      "source": [
        "**Data Preprosessing **"
      ]
    },
    {
      "cell_type": "code",
      "metadata": {
        "id": "-iUzq37ibJE4",
        "colab_type": "code",
        "colab": {}
      },
      "source": [
        "# Loading the Train and the test data from the keras\n",
        "# Here we are specifying how many unique words we want to keep example here 10K\n",
        "# i.e most frequent 10K words will be kept in the dataset of mine\n",
        "\n",
        "# Divding the data into train and test \n",
        "((XT,YT),(Xt,Yt))=imdb.load_data(num_words=10000)\n"
      ],
      "execution_count": 73,
      "outputs": []
    },
    {
      "cell_type": "code",
      "metadata": {
        "id": "1Vuv6YHkWG7E",
        "colab_type": "code",
        "colab": {
          "base_uri": "https://localhost:8080/",
          "height": 71
        },
        "outputId": "8325f519-fad1-4443-a163-6e2235a64dc7"
      },
      "source": [
        "print(XT[0])\n",
        "print(YT[0])"
      ],
      "execution_count": 74,
      "outputs": [
        {
          "output_type": "stream",
          "text": [
            "[1, 14, 22, 16, 43, 530, 973, 1622, 1385, 65, 458, 4468, 66, 3941, 4, 173, 36, 256, 5, 25, 100, 43, 838, 112, 50, 670, 2, 9, 35, 480, 284, 5, 150, 4, 172, 112, 167, 2, 336, 385, 39, 4, 172, 4536, 1111, 17, 546, 38, 13, 447, 4, 192, 50, 16, 6, 147, 2025, 19, 14, 22, 4, 1920, 4613, 469, 4, 22, 71, 87, 12, 16, 43, 530, 38, 76, 15, 13, 1247, 4, 22, 17, 515, 17, 12, 16, 626, 18, 2, 5, 62, 386, 12, 8, 316, 8, 106, 5, 4, 2223, 5244, 16, 480, 66, 3785, 33, 4, 130, 12, 16, 38, 619, 5, 25, 124, 51, 36, 135, 48, 25, 1415, 33, 6, 22, 12, 215, 28, 77, 52, 5, 14, 407, 16, 82, 2, 8, 4, 107, 117, 5952, 15, 256, 4, 2, 7, 3766, 5, 723, 36, 71, 43, 530, 476, 26, 400, 317, 46, 7, 4, 2, 1029, 13, 104, 88, 4, 381, 15, 297, 98, 32, 2071, 56, 26, 141, 6, 194, 7486, 18, 4, 226, 22, 21, 134, 476, 26, 480, 5, 144, 30, 5535, 18, 51, 36, 28, 224, 92, 25, 104, 4, 226, 65, 16, 38, 1334, 88, 12, 16, 283, 5, 16, 4472, 113, 103, 32, 15, 16, 5345, 19, 178, 32]\n",
            "1\n"
          ],
          "name": "stdout"
        }
      ]
    },
    {
      "cell_type": "markdown",
      "metadata": {
        "id": "1kxwTSwIbJfh",
        "colab_type": "text"
      },
      "source": [
        ""
      ]
    },
    {
      "cell_type": "code",
      "metadata": {
        "id": "cuPtNu6QecGM",
        "colab_type": "code",
        "colab": {
          "base_uri": "https://localhost:8080/",
          "height": 51
        },
        "outputId": "feff8fef-0e56-4846-b5ec-8b8aee5f3fbb"
      },
      "source": [
        "print(len(Xt))\n",
        "len(XT)\n",
        "\n",
        "# We can see that total we have 50K reveiws which are equally divided between train and test"
      ],
      "execution_count": 75,
      "outputs": [
        {
          "output_type": "stream",
          "text": [
            "25000\n"
          ],
          "name": "stdout"
        },
        {
          "output_type": "execute_result",
          "data": {
            "text/plain": [
              "25000"
            ]
          },
          "metadata": {
            "tags": []
          },
          "execution_count": 75
        }
      ]
    },
    {
      "cell_type": "code",
      "metadata": {
        "id": "ua2Cfe7Aech-",
        "colab_type": "code",
        "colab": {
          "base_uri": "https://localhost:8080/",
          "height": 54
        },
        "outputId": "01780bbb-55a6-4931-8bd2-d76bb7f4bf2f"
      },
      "source": [
        "print(XT[0])\n",
        "\n",
        "# This is a list of numbers which we have not expected \n",
        "# So What Keras do it that it convert Text into numbers \n",
        "# i.e each word is a sentence is assigned some number and then stored in the NLTK dictonary\n"
      ],
      "execution_count": 76,
      "outputs": [
        {
          "output_type": "stream",
          "text": [
            "[1, 14, 22, 16, 43, 530, 973, 1622, 1385, 65, 458, 4468, 66, 3941, 4, 173, 36, 256, 5, 25, 100, 43, 838, 112, 50, 670, 2, 9, 35, 480, 284, 5, 150, 4, 172, 112, 167, 2, 336, 385, 39, 4, 172, 4536, 1111, 17, 546, 38, 13, 447, 4, 192, 50, 16, 6, 147, 2025, 19, 14, 22, 4, 1920, 4613, 469, 4, 22, 71, 87, 12, 16, 43, 530, 38, 76, 15, 13, 1247, 4, 22, 17, 515, 17, 12, 16, 626, 18, 2, 5, 62, 386, 12, 8, 316, 8, 106, 5, 4, 2223, 5244, 16, 480, 66, 3785, 33, 4, 130, 12, 16, 38, 619, 5, 25, 124, 51, 36, 135, 48, 25, 1415, 33, 6, 22, 12, 215, 28, 77, 52, 5, 14, 407, 16, 82, 2, 8, 4, 107, 117, 5952, 15, 256, 4, 2, 7, 3766, 5, 723, 36, 71, 43, 530, 476, 26, 400, 317, 46, 7, 4, 2, 1029, 13, 104, 88, 4, 381, 15, 297, 98, 32, 2071, 56, 26, 141, 6, 194, 7486, 18, 4, 226, 22, 21, 134, 476, 26, 480, 5, 144, 30, 5535, 18, 51, 36, 28, 224, 92, 25, 104, 4, 226, 65, 16, 38, 1334, 88, 12, 16, 283, 5, 16, 4472, 113, 103, 32, 15, 16, 5345, 19, 178, 32]\n"
          ],
          "name": "stdout"
        }
      ]
    },
    {
      "cell_type": "code",
      "metadata": {
        "id": "45_I4izeecqM",
        "colab_type": "code",
        "colab": {}
      },
      "source": [
        "# We can see the dictonary of word along with its correspoinding number \n",
        "\n",
        "word_idx=imdb.get_word_index()"
      ],
      "execution_count": 77,
      "outputs": []
    },
    {
      "cell_type": "code",
      "metadata": {
        "id": "0BqTjZ79ecyE",
        "colab_type": "code",
        "colab": {}
      },
      "source": [
        "\n",
        "# This is the corresponding number of the word stored in a key value pair\n",
        "# dict_items([('fawn', 34701), ('tsukino', 52006), ('nunnery', 52007)\n",
        "# this is the ouput of the above  \"\"\"print(word_idx.items())\"\"\"\""
      ],
      "execution_count": 81,
      "outputs": []
    },
    {
      "cell_type": "code",
      "metadata": {
        "id": "7p1XsHqkec4h",
        "colab_type": "code",
        "colab": {}
      },
      "source": [
        "## If we want to see the actual Review we can reverse the dictonary and then see it\n",
        "\n",
        "idx_word=dict([value,key] for (key,value) in word_idx.items())\n",
        "# print(idx_word.items())\n",
        "#dict_items([(34701, 'fawn'), (52006, 'tsukino'), (52007, 'nunnery'),"
      ],
      "execution_count": 82,
      "outputs": []
    },
    {
      "cell_type": "code",
      "metadata": {
        "id": "vHNj7yciec9P",
        "colab_type": "code",
        "colab": {
          "base_uri": "https://localhost:8080/",
          "height": 54
        },
        "outputId": "46e87fa2-6967-4523-e17c-e0a4fe94f663"
      },
      "source": [
        "# get is the method in which key is given as argument  and value is there for output\n",
        "# But while storing words in the dictonary three words are  added after every key value pair , one is pad word <p> for padding \n",
        "# other is start of sentence<s> and other is <unk> i.e unmarked symbol , hence we specify with the -3\n",
        "\n",
        "\n",
        "# If that particular index is not present in dict so type there ?\n",
        "actual_review=' '.join([idx_word.get(idx-3,'?')for idx in XT[0]])\n",
        "print(actual_review)\n",
        "\n",
        "\n"
      ],
      "execution_count": 41,
      "outputs": [
        {
          "output_type": "stream",
          "text": [
            "? this film was just brilliant casting location scenery story direction everyone's really suited the part they played and you could just imagine being there robert ? is an amazing actor and now the same being director ? father came from the same scottish island as myself so i loved the fact there was a real connection with this film the witty remarks throughout the film were great it was just brilliant so much that i bought the film as soon as it was released for ? and would recommend it to everyone to watch and the fly fishing was amazing really cried at the end it was so sad and you know what they say if you cry at a film it must have been good and this definitely was also ? to the two little boy's that played the ? of norman and paul they were just brilliant children are often left out of the ? list i think because the stars that play them all grown up are such a big profile for the whole film but these children are amazing and should be praised for what they have done don't you think the whole story was so lovely because it was true and was someone's life after all that was shared with us all\n"
          ],
          "name": "stdout"
        }
      ]
    },
    {
      "cell_type": "code",
      "metadata": {
        "id": "7XSgbB21edB8",
        "colab_type": "code",
        "colab": {}
      },
      "source": [
        " # By seeing the above review we can ensure that preprosessing such as stop word removal and stemming etc has been already done on the review\n",
        " # Hence this is the review we are going to vectorize as simply string cannot be passed to the neural network\n",
        " # And to maintain the continuity we will pass them as the vector\n",
        " # Since vocab size is 10K so we ensure that every vector is of the length 10K\n",
        " # Vector here is basically collection of 0 and 1 and of the size 10K\n",
        " # Hence this is how we can transfrom the data into fixed length values i.e by vectorization\n",
        " # We can do vectorization either by count vectorizer class or we can write our own method\n",
        "\n",
        "\n",
        " # So here we will make our own function\n",
        "\n",
        " import numpy as np\n",
        " \n",
        " def vectorize_sentences(sentences,dim=10000):\n",
        "   # i.e we will have length of sen as rows and dim as column of our vector matrix\n",
        "   outputs=np.zeros((len(sentences),dim))\n",
        "\n",
        "   \n",
        "   # Remember sentence is a list of numbers\n",
        "   # enumerate will return two thing first is the index of the sentence and second is the actual number\n",
        "   for i,idx in enumerate(sentences):\n",
        "     outputs[i,idx]=1\n",
        "    \n",
        "   return outputs"
      ],
      "execution_count": 42,
      "outputs": []
    },
    {
      "cell_type": "code",
      "metadata": {
        "id": "LXXNQfmTedGe",
        "colab_type": "code",
        "colab": {
          "base_uri": "https://localhost:8080/",
          "height": 51
        },
        "outputId": "4c53398e-7ba7-4e96-e802-f8d5a0c23311"
      },
      "source": [
        "X_train= vectorize_sentences(XT)\n",
        "X_test = vectorize_sentences(Xt)\n",
        "\n",
        "print(X_train.shape)\n",
        "print(X_test.shape)\n",
        "\n",
        "\n",
        "\n",
        "# Now we have 25K sentence each having 10k features \n",
        "# i.e now we have 25K vectors or a matrix"
      ],
      "execution_count": 43,
      "outputs": [
        {
          "output_type": "stream",
          "text": [
            "(25000, 10000)\n",
            "(25000, 10000)\n"
          ],
          "name": "stdout"
        }
      ]
    },
    {
      "cell_type": "code",
      "metadata": {
        "id": "FB8F_KLfedLR",
        "colab_type": "code",
        "colab": {
          "base_uri": "https://localhost:8080/",
          "height": 34
        },
        "outputId": "da5806d4-bdd5-4e43-d08d-a40eea1db944"
      },
      "source": [
        "print(X_train[0])\n",
        "\n",
        "# We can say that it is a vector of zero and ones"
      ],
      "execution_count": 44,
      "outputs": [
        {
          "output_type": "stream",
          "text": [
            "[0. 1. 1. ... 0. 0. 0.]\n"
          ],
          "name": "stdout"
        }
      ]
    },
    {
      "cell_type": "code",
      "metadata": {
        "id": "SbmAAPHlYv00",
        "colab_type": "code",
        "colab": {}
      },
      "source": [
        "# Converting it to numpy array and the float array\n",
        "\n",
        "Y_train=np.asarray(YT).astype('float32')\n",
        "Y_test =np.asarray(Yt).astype('float32')\n"
      ],
      "execution_count": 45,
      "outputs": []
    },
    {
      "cell_type": "markdown",
      "metadata": {
        "id": "huMQmyL9ZgVX",
        "colab_type": "text"
      },
      "source": [
        "**Model architecture**\n",
        "\n",
        "\n",
        "\n",
        "*   * 2 hidden layer with Relu activation function *\n",
        "*   * 16 Neurons in 2 hidden layer and 1 neuron in output *\n",
        "*   * Sigmoid activation in output layer and Relu in the hidden layer *\n",
        "\n"
      ]
    },
    {
      "cell_type": "code",
      "metadata": {
        "id": "TGHl2gJPYvol",
        "colab_type": "code",
        "colab": {}
      },
      "source": [
        "from keras import models\n",
        "from keras.layers import Dense"
      ],
      "execution_count": 59,
      "outputs": []
    },
    {
      "cell_type": "markdown",
      "metadata": {
        "id": "XJDRKsl9cRSS",
        "colab_type": "text"
      },
      "source": [
        "Define the model"
      ]
    },
    {
      "cell_type": "code",
      "metadata": {
        "id": "jpaCCm7lYvOU",
        "colab_type": "code",
        "colab": {}
      },
      "source": [
        "# Model is going to be the object of sequential class\n",
        "model=models.Sequential()\n",
        "\n",
        "\n",
        "# We will have Dense layer of 16 neurons with relu activation from a input_size of 10K\n",
        "model.add(Dense(16,activation='relu',input_shape=(10000,)))\n",
        "\n",
        "# This time we donot need to specify the input shape as model already known what are the inputs from Previous layers\n",
        "model.add(Dense(16,activation='relu'))\n",
        "\n",
        "\n",
        "# Defining the output layer \n",
        "model.add(Dense(1,activation='sigmoid'))\n",
        "\n"
      ],
      "execution_count": 60,
      "outputs": []
    },
    {
      "cell_type": "markdown",
      "metadata": {
        "id": "XWEzKlPgc1kC",
        "colab_type": "text"
      },
      "source": [
        "Compile the model"
      ]
    },
    {
      "cell_type": "code",
      "metadata": {
        "id": "4CidIDAdYupj",
        "colab_type": "code",
        "colab": {}
      },
      "source": [
        "# Using optimizer to update the weight while backpropogation in the neural network and minimizing the loss\n",
        "# There are various optimizer such as gradient descent ,stochastic gradient descent,adam ,rmsprop etc\n",
        "\n",
        "model.compile(optimizer='rmsprop',loss='binary_crossentropy',metrics=['accuracy'])"
      ],
      "execution_count": 61,
      "outputs": []
    },
    {
      "cell_type": "code",
      "metadata": {
        "id": "_AyPRJ01YugD",
        "colab_type": "code",
        "colab": {
          "base_uri": "https://localhost:8080/",
          "height": 255
        },
        "outputId": "7b8ecd41-07c9-4f2e-ea98-3cd7d64a9036"
      },
      "source": [
        "model.summary()\n",
        "# in the first layer we have 16*10K + 16 bias terms i.e 160016 parameters\n",
        "# in the second layer we have 16*16 _16 bias term i.e 272\n",
        "# We have 17 parameters in the last layer as 16 neurons and 1 bias term"
      ],
      "execution_count": 62,
      "outputs": [
        {
          "output_type": "stream",
          "text": [
            "Model: \"sequential_4\"\n",
            "_________________________________________________________________\n",
            "Layer (type)                 Output Shape              Param #   \n",
            "=================================================================\n",
            "dense_8 (Dense)              (None, 16)                160016    \n",
            "_________________________________________________________________\n",
            "dense_9 (Dense)              (None, 16)                272       \n",
            "_________________________________________________________________\n",
            "dense_10 (Dense)             (None, 1)                 17        \n",
            "=================================================================\n",
            "Total params: 160,305\n",
            "Trainable params: 160,305\n",
            "Non-trainable params: 0\n",
            "_________________________________________________________________\n"
          ],
          "name": "stdout"
        }
      ]
    },
    {
      "cell_type": "markdown",
      "metadata": {
        "id": "b7mq8nmMe4Ml",
        "colab_type": "text"
      },
      "source": [
        "Traning and validation of the model"
      ]
    },
    {
      "cell_type": "code",
      "metadata": {
        "id": "PV4wyg0TYuU4",
        "colab_type": "code",
        "colab": {}
      },
      "source": [
        "# We can see that model has more number of parameters (160,305) than number of examples in the training set i.e number of inputs(25k)\n",
        "# Hence model might overfit,in order to avoid overfitting we need to have validation check (i.e out of 25k take 5k for validation check)\n",
        "# Acccuracy of the model keep on increasing with the training  of 20k examples but it will not continously increase for 5K examples \n",
        "# i.e for 5K examples it will decrease after a particular threshold at that time we will stop training of our model i.e after a \n",
        "# particular threshold our model tries to overfit the examples\n",
        "\n",
        "# This is a way to figure out what is the good number of iterations so that model does not overfit\n",
        "\n",
        "\n",
        "\n",
        "\n",
        "# Selecting 20k examples in the traing set and 5k examples in the validation set\n",
        "\n",
        "X_val=X_train[:5000]\n",
        "X_train_new=X_train[5000:]\n",
        "\n",
        "y_val=Y_train[:5000]\n",
        "y_train_new=Y_train[5000:]\n"
      ],
      "execution_count": 63,
      "outputs": []
    },
    {
      "cell_type": "code",
      "metadata": {
        "id": "G9_DqL_UYuLZ",
        "colab_type": "code",
        "colab": {
          "base_uri": "https://localhost:8080/",
          "height": 714
        },
        "outputId": "79756729-184b-4a74-ca57-d6246422b503"
      },
      "source": [
        "\n",
        "hist=model.fit(X_train_new,y_train_new,epochs=20,batch_size=512,validation_data=(X_val,y_val))\n",
        "\n",
        "\n",
        "\n",
        "# It uses minibatch gradient descent hence we need to specify the batch size \n",
        "# batch_size is kept in the multiple of 2 so that it works with the GPU\n",
        "# If we get the out of memory error with the large batch size we will have to start with smaller batch size"
      ],
      "execution_count": 64,
      "outputs": [
        {
          "output_type": "stream",
          "text": [
            "Train on 20000 samples, validate on 5000 samples\n",
            "Epoch 1/20\n",
            "20000/20000 [==============================] - 2s 99us/step - loss: 0.5338 - accuracy: 0.7821 - val_loss: 0.4061 - val_accuracy: 0.8538\n",
            "Epoch 2/20\n",
            "20000/20000 [==============================] - 2s 86us/step - loss: 0.3050 - accuracy: 0.9028 - val_loss: 0.2946 - val_accuracy: 0.8840\n",
            "Epoch 3/20\n",
            "20000/20000 [==============================] - 2s 87us/step - loss: 0.2230 - accuracy: 0.9252 - val_loss: 0.3237 - val_accuracy: 0.8672\n",
            "Epoch 4/20\n",
            "20000/20000 [==============================] - 2s 86us/step - loss: 0.1788 - accuracy: 0.9398 - val_loss: 0.2828 - val_accuracy: 0.8874\n",
            "Epoch 5/20\n",
            "20000/20000 [==============================] - 2s 86us/step - loss: 0.1524 - accuracy: 0.9481 - val_loss: 0.2780 - val_accuracy: 0.8890\n",
            "Epoch 6/20\n",
            "20000/20000 [==============================] - 2s 86us/step - loss: 0.1290 - accuracy: 0.9574 - val_loss: 0.2927 - val_accuracy: 0.8900\n",
            "Epoch 7/20\n",
            "20000/20000 [==============================] - 2s 86us/step - loss: 0.1120 - accuracy: 0.9624 - val_loss: 0.3170 - val_accuracy: 0.8850\n",
            "Epoch 8/20\n",
            "20000/20000 [==============================] - 2s 86us/step - loss: 0.0960 - accuracy: 0.9696 - val_loss: 0.3248 - val_accuracy: 0.8856\n",
            "Epoch 9/20\n",
            "20000/20000 [==============================] - 2s 86us/step - loss: 0.0827 - accuracy: 0.9738 - val_loss: 0.3869 - val_accuracy: 0.8750\n",
            "Epoch 10/20\n",
            "20000/20000 [==============================] - 2s 86us/step - loss: 0.0696 - accuracy: 0.9787 - val_loss: 0.3980 - val_accuracy: 0.8734\n",
            "Epoch 11/20\n",
            "20000/20000 [==============================] - 2s 86us/step - loss: 0.0602 - accuracy: 0.9830 - val_loss: 0.3905 - val_accuracy: 0.8826\n",
            "Epoch 12/20\n",
            "20000/20000 [==============================] - 2s 85us/step - loss: 0.0499 - accuracy: 0.9862 - val_loss: 0.4502 - val_accuracy: 0.8690\n",
            "Epoch 13/20\n",
            "20000/20000 [==============================] - 2s 86us/step - loss: 0.0421 - accuracy: 0.9886 - val_loss: 0.4920 - val_accuracy: 0.8662\n",
            "Epoch 14/20\n",
            "20000/20000 [==============================] - 2s 85us/step - loss: 0.0341 - accuracy: 0.9918 - val_loss: 0.4952 - val_accuracy: 0.8746\n",
            "Epoch 15/20\n",
            "20000/20000 [==============================] - 2s 86us/step - loss: 0.0281 - accuracy: 0.9933 - val_loss: 0.5190 - val_accuracy: 0.8720\n",
            "Epoch 16/20\n",
            "20000/20000 [==============================] - 2s 84us/step - loss: 0.0242 - accuracy: 0.9945 - val_loss: 0.5519 - val_accuracy: 0.8726\n",
            "Epoch 17/20\n",
            "20000/20000 [==============================] - 2s 85us/step - loss: 0.0192 - accuracy: 0.9959 - val_loss: 0.5979 - val_accuracy: 0.8680\n",
            "Epoch 18/20\n",
            "20000/20000 [==============================] - 2s 84us/step - loss: 0.0137 - accuracy: 0.9980 - val_loss: 0.6209 - val_accuracy: 0.8702\n",
            "Epoch 19/20\n",
            "20000/20000 [==============================] - 2s 84us/step - loss: 0.0121 - accuracy: 0.9979 - val_loss: 0.6545 - val_accuracy: 0.8684\n",
            "Epoch 20/20\n",
            "20000/20000 [==============================] - 2s 83us/step - loss: 0.0086 - accuracy: 0.9989 - val_loss: 0.6892 - val_accuracy: 0.8676\n"
          ],
          "name": "stdout"
        }
      ]
    },
    {
      "cell_type": "code",
      "metadata": {
        "id": "4jgCITHpYt1c",
        "colab_type": "code",
        "colab": {
          "base_uri": "https://localhost:8080/",
          "height": 1000
        },
        "outputId": "8855dcb5-6adc-487d-aa9a-61906e90dd9f"
      },
      "source": [
        "# For each epoch it is taking 20 sec and accuary is increaing with every epoch \n",
        "# So after 20 iteration we are getting 99.7 accuary \n",
        "\n",
        "\n",
        "# Visulazing our data\n",
        "\n",
        "import matplotlib.pyplot as plt\n",
        "hist.history\n",
        "\n",
        "# this gives output a dictonary which stores accuracy ,loss ,validation loss etc\n"
      ],
      "execution_count": 65,
      "outputs": [
        {
          "output_type": "execute_result",
          "data": {
            "text/plain": [
              "{'accuracy': [0.78205,\n",
              "  0.9028,\n",
              "  0.92525,\n",
              "  0.93975,\n",
              "  0.9481,\n",
              "  0.95735,\n",
              "  0.9624,\n",
              "  0.9696,\n",
              "  0.9738,\n",
              "  0.97875,\n",
              "  0.983,\n",
              "  0.9862,\n",
              "  0.98855,\n",
              "  0.9918,\n",
              "  0.99325,\n",
              "  0.9945,\n",
              "  0.99585,\n",
              "  0.99805,\n",
              "  0.99785,\n",
              "  0.9989],\n",
              " 'loss': [0.5338253218650818,\n",
              "  0.3049589813232422,\n",
              "  0.2229537143230438,\n",
              "  0.17882575263977052,\n",
              "  0.15241222898960113,\n",
              "  0.12897052824497224,\n",
              "  0.11203278622627258,\n",
              "  0.09595913627147674,\n",
              "  0.082684148645401,\n",
              "  0.06962641270160674,\n",
              "  0.06017854308485985,\n",
              "  0.049930892723798755,\n",
              "  0.04206634905338287,\n",
              "  0.03407814136147499,\n",
              "  0.028074759072065355,\n",
              "  0.024176777076721192,\n",
              "  0.0192235254406929,\n",
              "  0.013688486447930337,\n",
              "  0.01211619902178645,\n",
              "  0.00861802835110575],\n",
              " 'val_accuracy': [0.8537999987602234,\n",
              "  0.8840000033378601,\n",
              "  0.8672000169754028,\n",
              "  0.8873999714851379,\n",
              "  0.8889999985694885,\n",
              "  0.8899999856948853,\n",
              "  0.8849999904632568,\n",
              "  0.8855999708175659,\n",
              "  0.875,\n",
              "  0.8733999729156494,\n",
              "  0.8826000094413757,\n",
              "  0.8690000176429749,\n",
              "  0.8661999702453613,\n",
              "  0.8745999932289124,\n",
              "  0.871999979019165,\n",
              "  0.8726000189781189,\n",
              "  0.8679999709129333,\n",
              "  0.870199978351593,\n",
              "  0.868399977684021,\n",
              "  0.8676000237464905],\n",
              " 'val_loss': [0.4060949228286743,\n",
              "  0.29455854449272156,\n",
              "  0.3236900332927704,\n",
              "  0.2828295253753662,\n",
              "  0.2779546947002411,\n",
              "  0.2926763123989105,\n",
              "  0.317041290140152,\n",
              "  0.32479728379249573,\n",
              "  0.3868649911403656,\n",
              "  0.39798961777687075,\n",
              "  0.39054056038856505,\n",
              "  0.4501542960166931,\n",
              "  0.4920400629520416,\n",
              "  0.4951612236022949,\n",
              "  0.5189789548873901,\n",
              "  0.5518817423820496,\n",
              "  0.5978513632774353,\n",
              "  0.6209315201759339,\n",
              "  0.6545146734237671,\n",
              "  0.6891564472198486]}"
            ]
          },
          "metadata": {
            "tags": []
          },
          "execution_count": 65
        }
      ]
    },
    {
      "cell_type": "code",
      "metadata": {
        "id": "CNNiS0XMYtW9",
        "colab_type": "code",
        "colab": {
          "base_uri": "https://localhost:8080/",
          "height": 279
        },
        "outputId": "3620e1c5-2338-47e3-d635-63a7c9da62c6"
      },
      "source": [
        "h=hist.history\n",
        "\n",
        "plt.plot(h['val_loss'],label='validation loss')\n",
        "plt.plot(h['loss'],label='Training loss')\n",
        "plt.xlabel('Epochs')\n",
        "plt.ylabel('loss')\n",
        "plt.legend()\n",
        "plt.show()"
      ],
      "execution_count": 66,
      "outputs": [
        {
          "output_type": "display_data",
          "data": {
            "image/png": "[encoded data removed]",
            "text/plain": [
              "<Figure size 432x288 with 1 Axes>"
            ]
          },
          "metadata": {
            "tags": [],
            "needs_background": "light"
          }
        }
      ]
    },
    {
      "cell_type": "code",
      "metadata": {
        "id": "0_9REcByZRB0",
        "colab_type": "code",
        "colab": {
          "base_uri": "https://localhost:8080/",
          "height": 279
        },
        "outputId": "ff24ae7c-68a5-4428-cd87-b3040048d748"
      },
      "source": [
        "# Validation loss decreases upto few epoch and then it starts increasing\n",
        "\n",
        "plt.plot(h['val_accuracy'],label='validation acc')\n",
        "plt.plot(h['accuracy'],label='Training acc')\n",
        "plt.xlabel('Epochs')\n",
        "plt.ylabel('accuracy')\n",
        "plt.legend()\n",
        "plt.show()\n",
        "\n",
        "\n",
        "\n",
        "# It is also seen that validation accuracy after a certain point will decrease\n",
        "# We can notice that traing accuracy is about 100 percent(overfitting ) but the validation accuracy is around 88 percent\n",
        "# Hence to avoid over fitting we will stop traning our model at 88 percent "
      ],
      "execution_count": 67,
      "outputs": [
        {
          "output_type": "display_data",
          "data": {
            "image/png": "[encoded data removed]",
            "text/plain": [
              "<Figure size 432x288 with 1 Axes>"
            ]
          },
          "metadata": {
            "tags": [],
            "needs_background": "light"
          }
        }
      ]
    },
    {
      "cell_type": "code",
      "metadata": {
        "id": "ctcnkUL8ZQp2",
        "colab_type": "code",
        "colab": {
          "base_uri": "https://localhost:8080/",
          "height": 432
        },
        "outputId": "83bc85e3-d559-4684-a4fc-f6c385dda33e"
      },
      "source": [
        "# Retraining our model with number of epochs as 4\n",
        "hist=model.fit(X_train_new,y_train_new,epochs=4,batch_size=512,validation_data=(X_val,y_val))\n",
        "\n",
        "\n",
        "\n",
        "\n",
        "h=hist.history\n",
        "\n",
        "plt.plot(h['val_loss'],label='validation loss')\n",
        "plt.plot(h['loss'],label='Training loss')\n",
        "plt.xlabel('Epochs')\n",
        "plt.ylabel('loss')\n",
        "plt.legend()\n",
        "plt.show()"
      ],
      "execution_count": 68,
      "outputs": [
        {
          "output_type": "stream",
          "text": [
            "Train on 20000 samples, validate on 5000 samples\n",
            "Epoch 1/4\n",
            "20000/20000 [==============================] - 2s 85us/step - loss: 0.0082 - accuracy: 0.9987 - val_loss: 0.7241 - val_accuracy: 0.8684\n",
            "Epoch 2/4\n",
            "20000/20000 [==============================] - 2s 84us/step - loss: 0.0079 - accuracy: 0.9987 - val_loss: 0.7720 - val_accuracy: 0.8666\n",
            "Epoch 3/4\n",
            "20000/20000 [==============================] - 2s 84us/step - loss: 0.0031 - accuracy: 0.9999 - val_loss: 0.8183 - val_accuracy: 0.8642\n",
            "Epoch 4/4\n",
            "20000/20000 [==============================] - 2s 85us/step - loss: 0.0052 - accuracy: 0.9984 - val_loss: 0.8475 - val_accuracy: 0.8626\n"
          ],
          "name": "stdout"
        },
        {
          "output_type": "display_data",
          "data": {
            "image/png": "[encoded data removed]",
            "text/plain": [
              "<Figure size 432x288 with 1 Axes>"
            ]
          },
          "metadata": {
            "tags": [],
            "needs_background": "light"
          }
        }
      ]
    },
    {
      "cell_type": "code",
      "metadata": {
        "id": "qE2GDZJ0ZQKk",
        "colab_type": "code",
        "colab": {
          "base_uri": "https://localhost:8080/",
          "height": 279
        },
        "outputId": "f9892e08-7381-4410-e4c4-d5e48e38642f"
      },
      "source": [
        "plt.plot(h['val_accuracy'],label='validation acc')\n",
        "plt.plot(h['accuracy'],label='Training acc')\n",
        "plt.xlabel('Epochs')\n",
        "plt.ylabel('accuracy')\n",
        "plt.legend()\n",
        "plt.show()"
      ],
      "execution_count": 69,
      "outputs": [
        {
          "output_type": "display_data",
          "data": {
            "image/png": "[encoded data removed]",
            "text/plain": [
              "<Figure size 432x288 with 1 Axes>"
            ]
          },
          "metadata": {
            "tags": [],
            "needs_background": "light"
          }
        }
      ]
    },
    {
      "cell_type": "code",
      "metadata": {
        "id": "9TCSYRANZP2x",
        "colab_type": "code",
        "colab": {
          "base_uri": "https://localhost:8080/",
          "height": 51
        },
        "outputId": "e3b98c93-b1f3-4e9c-83b5-3920c3218fc5"
      },
      "source": [
        "model.evaluate?\n",
        "# 2nd arugment gives the accuaracy hence [1]\n",
        "\n",
        "model.evaluate(X_train,Y_train)[1]"
      ],
      "execution_count": 58,
      "outputs": [
        {
          "output_type": "stream",
          "text": [
            "25000/25000 [==============================] - 1s 46us/step\n"
          ],
          "name": "stdout"
        },
        {
          "output_type": "execute_result",
          "data": {
            "text/plain": [
              "0.9728400111198425"
            ]
          },
          "metadata": {
            "tags": []
          },
          "execution_count": 58
        }
      ]
    },
    {
      "cell_type": "code",
      "metadata": {
        "id": "33bRWCjSZPg9",
        "colab_type": "code",
        "colab": {
          "base_uri": "https://localhost:8080/",
          "height": 136
        },
        "outputId": "4ac3a7d9-8990-47c0-8088-ee7e912e8ef3"
      },
      "source": [
        "model.predict(X_test)"
      ],
      "execution_count": 70,
      "outputs": [
        {
          "output_type": "execute_result",
          "data": {
            "text/plain": [
              "array([[1.3937056e-03],\n",
              "       [1.0000000e+00],\n",
              "       [1.0787249e-03],\n",
              "       ...,\n",
              "       [5.4490596e-02],\n",
              "       [9.8246336e-04],\n",
              "       [9.8268819e-01]], dtype=float32)"
            ]
          },
          "metadata": {
            "tags": []
          },
          "execution_count": 70
        }
      ]
    },
    {
      "cell_type": "code",
      "metadata": {
        "id": "-4TrFPTaZPBw",
        "colab_type": "code",
        "colab": {}
      },
      "source": [
        ""
      ],
      "execution_count": null,
      "outputs": []
    },
    {
      "cell_type": "code",
      "metadata": {
        "id": "JnvsCTbLedPd",
        "colab_type": "code",
        "colab": {}
      },
      "source": [
        ""
      ],
      "execution_count": null,
      "outputs": []
    }
  ]
}